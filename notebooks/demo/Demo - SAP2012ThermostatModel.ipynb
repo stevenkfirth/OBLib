{
 "cells": [
  {
   "cell_type": "markdown",
   "id": "29dc20be",
   "metadata": {},
   "source": [
    "# Demo - SAP2012ThermostatModel"
   ]
  },
  {
   "cell_type": "code",
   "execution_count": null,
   "id": "81c9d7cc",
   "metadata": {},
   "outputs": [],
   "source": []
  },
  {
   "cell_type": "code",
   "execution_count": 1,
   "id": "739d4821",
   "metadata": {},
   "outputs": [],
   "source": [
    "from OBLib import SAP2012ThermostatModel"
   ]
  },
  {
   "cell_type": "code",
   "execution_count": 9,
   "id": "3427b47c",
   "metadata": {},
   "outputs": [],
   "source": [
    "m=SAP2012ThermostatModel()\n",
    "m.inputs.set_timestamps(start=(2021,1,1),freq='H',periods=24*7)\n",
    "result=m.run()"
   ]
  },
  {
   "cell_type": "code",
   "execution_count": 10,
   "id": "af996529",
   "metadata": {
    "scrolled": true
   },
   "outputs": [
    {
     "data": {
      "text/html": [
       "<div>\n",
       "<style scoped>\n",
       "    .dataframe tbody tr th:only-of-type {\n",
       "        vertical-align: middle;\n",
       "    }\n",
       "\n",
       "    .dataframe tbody tr th {\n",
       "        vertical-align: top;\n",
       "    }\n",
       "\n",
       "    .dataframe thead th {\n",
       "        text-align: right;\n",
       "    }\n",
       "</style>\n",
       "<table border=\"1\" class=\"dataframe\">\n",
       "  <thead>\n",
       "    <tr style=\"text-align: right;\">\n",
       "      <th></th>\n",
       "      <th>result</th>\n",
       "    </tr>\n",
       "  </thead>\n",
       "  <tbody>\n",
       "    <tr>\n",
       "      <th>2021-01-01 00:00:00</th>\n",
       "      <td>0</td>\n",
       "    </tr>\n",
       "    <tr>\n",
       "      <th>2021-01-01 01:00:00</th>\n",
       "      <td>0</td>\n",
       "    </tr>\n",
       "    <tr>\n",
       "      <th>2021-01-01 02:00:00</th>\n",
       "      <td>0</td>\n",
       "    </tr>\n",
       "    <tr>\n",
       "      <th>2021-01-01 03:00:00</th>\n",
       "      <td>0</td>\n",
       "    </tr>\n",
       "    <tr>\n",
       "      <th>2021-01-01 04:00:00</th>\n",
       "      <td>0</td>\n",
       "    </tr>\n",
       "    <tr>\n",
       "      <th>...</th>\n",
       "      <td>...</td>\n",
       "    </tr>\n",
       "    <tr>\n",
       "      <th>2021-01-07 19:00:00</th>\n",
       "      <td>0</td>\n",
       "    </tr>\n",
       "    <tr>\n",
       "      <th>2021-01-07 20:00:00</th>\n",
       "      <td>0</td>\n",
       "    </tr>\n",
       "    <tr>\n",
       "      <th>2021-01-07 21:00:00</th>\n",
       "      <td>0</td>\n",
       "    </tr>\n",
       "    <tr>\n",
       "      <th>2021-01-07 22:00:00</th>\n",
       "      <td>0</td>\n",
       "    </tr>\n",
       "    <tr>\n",
       "      <th>2021-01-07 23:00:00</th>\n",
       "      <td>0</td>\n",
       "    </tr>\n",
       "  </tbody>\n",
       "</table>\n",
       "<p>168 rows × 1 columns</p>\n",
       "</div>"
      ],
      "text/plain": [
       "                     result\n",
       "2021-01-01 00:00:00       0\n",
       "2021-01-01 01:00:00       0\n",
       "2021-01-01 02:00:00       0\n",
       "2021-01-01 03:00:00       0\n",
       "2021-01-01 04:00:00       0\n",
       "...                     ...\n",
       "2021-01-07 19:00:00       0\n",
       "2021-01-07 20:00:00       0\n",
       "2021-01-07 21:00:00       0\n",
       "2021-01-07 22:00:00       0\n",
       "2021-01-07 23:00:00       0\n",
       "\n",
       "[168 rows x 1 columns]"
      ]
     },
     "execution_count": 10,
     "metadata": {},
     "output_type": "execute_result"
    }
   ],
   "source": [
    "result.df"
   ]
  },
  {
   "cell_type": "code",
   "execution_count": 11,
   "id": "9ed20948",
   "metadata": {},
   "outputs": [
    {
     "data": {
      "image/png": "[encoded data removed]",
      "text/plain": [
       "<Figure size 1152x288 with 1 Axes>"
      ]
     },
     "metadata": {
      "needs_background": "light"
     },
     "output_type": "display_data"
    }
   ],
   "source": [
    "ax=result.df.plot(figsize=(16,4))"
   ]
  }
 ],
 "metadata": {
  "kernelspec": {
   "display_name": "Python 3",
   "language": "python",
   "name": "python3"
  },
  "language_info": {
   "codemirror_mode": {
    "name": "ipython",
    "version": 3
   },
   "file_extension": ".py",
   "mimetype": "text/x-python",
   "name": "python",
   "nbconvert_exporter": "python",
   "pygments_lexer": "ipython3",
   "version": "3.9.4"
  }
 },
 "nbformat": 4,
 "nbformat_minor": 5
}
